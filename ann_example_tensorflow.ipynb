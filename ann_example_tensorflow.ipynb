{
 "cells": [
  {
   "cell_type": "code",
   "execution_count": 232,
   "metadata": {},
   "outputs": [],
   "source": [
    "import pandas as pd\n",
    "import numpy as np\n",
    "import tensorflow as tf\n"
   ]
  },
  {
   "cell_type": "code",
   "execution_count": 233,
   "metadata": {},
   "outputs": [],
   "source": [
    "file_path = \"Machine Learning A-Z (Codes and Datasets)/Part 8 - Deep Learning/Section 39 - Artificial Neural Networks (ANN)/Python/Churn_Modelling.csv\"\n",
    "df = pd.read_csv(file_path)"
   ]
  },
  {
   "cell_type": "code",
   "execution_count": 234,
   "metadata": {},
   "outputs": [
    {
     "data": {
      "text/html": [
       "<div>\n",
       "<style scoped>\n",
       "    .dataframe tbody tr th:only-of-type {\n",
       "        vertical-align: middle;\n",
       "    }\n",
       "\n",
       "    .dataframe tbody tr th {\n",
       "        vertical-align: top;\n",
       "    }\n",
       "\n",
       "    .dataframe thead th {\n",
       "        text-align: right;\n",
       "    }\n",
       "</style>\n",
       "<table border=\"1\" class=\"dataframe\">\n",
       "  <thead>\n",
       "    <tr style=\"text-align: right;\">\n",
       "      <th></th>\n",
       "      <th>RowNumber</th>\n",
       "      <th>CustomerId</th>\n",
       "      <th>Surname</th>\n",
       "      <th>CreditScore</th>\n",
       "      <th>Geography</th>\n",
       "      <th>Gender</th>\n",
       "      <th>Age</th>\n",
       "      <th>Tenure</th>\n",
       "      <th>Balance</th>\n",
       "      <th>NumOfProducts</th>\n",
       "      <th>HasCrCard</th>\n",
       "      <th>IsActiveMember</th>\n",
       "      <th>EstimatedSalary</th>\n",
       "      <th>Exited</th>\n",
       "    </tr>\n",
       "  </thead>\n",
       "  <tbody>\n",
       "    <tr>\n",
       "      <th>0</th>\n",
       "      <td>1</td>\n",
       "      <td>15634602</td>\n",
       "      <td>Hargrave</td>\n",
       "      <td>619</td>\n",
       "      <td>France</td>\n",
       "      <td>Female</td>\n",
       "      <td>42</td>\n",
       "      <td>2</td>\n",
       "      <td>0.00</td>\n",
       "      <td>1</td>\n",
       "      <td>1</td>\n",
       "      <td>1</td>\n",
       "      <td>101348.88</td>\n",
       "      <td>1</td>\n",
       "    </tr>\n",
       "    <tr>\n",
       "      <th>1</th>\n",
       "      <td>2</td>\n",
       "      <td>15647311</td>\n",
       "      <td>Hill</td>\n",
       "      <td>608</td>\n",
       "      <td>Spain</td>\n",
       "      <td>Female</td>\n",
       "      <td>41</td>\n",
       "      <td>1</td>\n",
       "      <td>83807.86</td>\n",
       "      <td>1</td>\n",
       "      <td>0</td>\n",
       "      <td>1</td>\n",
       "      <td>112542.58</td>\n",
       "      <td>0</td>\n",
       "    </tr>\n",
       "    <tr>\n",
       "      <th>2</th>\n",
       "      <td>3</td>\n",
       "      <td>15619304</td>\n",
       "      <td>Onio</td>\n",
       "      <td>502</td>\n",
       "      <td>France</td>\n",
       "      <td>Female</td>\n",
       "      <td>42</td>\n",
       "      <td>8</td>\n",
       "      <td>159660.80</td>\n",
       "      <td>3</td>\n",
       "      <td>1</td>\n",
       "      <td>0</td>\n",
       "      <td>113931.57</td>\n",
       "      <td>1</td>\n",
       "    </tr>\n",
       "    <tr>\n",
       "      <th>3</th>\n",
       "      <td>4</td>\n",
       "      <td>15701354</td>\n",
       "      <td>Boni</td>\n",
       "      <td>699</td>\n",
       "      <td>France</td>\n",
       "      <td>Female</td>\n",
       "      <td>39</td>\n",
       "      <td>1</td>\n",
       "      <td>0.00</td>\n",
       "      <td>2</td>\n",
       "      <td>0</td>\n",
       "      <td>0</td>\n",
       "      <td>93826.63</td>\n",
       "      <td>0</td>\n",
       "    </tr>\n",
       "    <tr>\n",
       "      <th>4</th>\n",
       "      <td>5</td>\n",
       "      <td>15737888</td>\n",
       "      <td>Mitchell</td>\n",
       "      <td>850</td>\n",
       "      <td>Spain</td>\n",
       "      <td>Female</td>\n",
       "      <td>43</td>\n",
       "      <td>2</td>\n",
       "      <td>125510.82</td>\n",
       "      <td>1</td>\n",
       "      <td>1</td>\n",
       "      <td>1</td>\n",
       "      <td>79084.10</td>\n",
       "      <td>0</td>\n",
       "    </tr>\n",
       "    <tr>\n",
       "      <th>...</th>\n",
       "      <td>...</td>\n",
       "      <td>...</td>\n",
       "      <td>...</td>\n",
       "      <td>...</td>\n",
       "      <td>...</td>\n",
       "      <td>...</td>\n",
       "      <td>...</td>\n",
       "      <td>...</td>\n",
       "      <td>...</td>\n",
       "      <td>...</td>\n",
       "      <td>...</td>\n",
       "      <td>...</td>\n",
       "      <td>...</td>\n",
       "      <td>...</td>\n",
       "    </tr>\n",
       "    <tr>\n",
       "      <th>9995</th>\n",
       "      <td>9996</td>\n",
       "      <td>15606229</td>\n",
       "      <td>Obijiaku</td>\n",
       "      <td>771</td>\n",
       "      <td>France</td>\n",
       "      <td>Male</td>\n",
       "      <td>39</td>\n",
       "      <td>5</td>\n",
       "      <td>0.00</td>\n",
       "      <td>2</td>\n",
       "      <td>1</td>\n",
       "      <td>0</td>\n",
       "      <td>96270.64</td>\n",
       "      <td>0</td>\n",
       "    </tr>\n",
       "    <tr>\n",
       "      <th>9996</th>\n",
       "      <td>9997</td>\n",
       "      <td>15569892</td>\n",
       "      <td>Johnstone</td>\n",
       "      <td>516</td>\n",
       "      <td>France</td>\n",
       "      <td>Male</td>\n",
       "      <td>35</td>\n",
       "      <td>10</td>\n",
       "      <td>57369.61</td>\n",
       "      <td>1</td>\n",
       "      <td>1</td>\n",
       "      <td>1</td>\n",
       "      <td>101699.77</td>\n",
       "      <td>0</td>\n",
       "    </tr>\n",
       "    <tr>\n",
       "      <th>9997</th>\n",
       "      <td>9998</td>\n",
       "      <td>15584532</td>\n",
       "      <td>Liu</td>\n",
       "      <td>709</td>\n",
       "      <td>France</td>\n",
       "      <td>Female</td>\n",
       "      <td>36</td>\n",
       "      <td>7</td>\n",
       "      <td>0.00</td>\n",
       "      <td>1</td>\n",
       "      <td>0</td>\n",
       "      <td>1</td>\n",
       "      <td>42085.58</td>\n",
       "      <td>1</td>\n",
       "    </tr>\n",
       "    <tr>\n",
       "      <th>9998</th>\n",
       "      <td>9999</td>\n",
       "      <td>15682355</td>\n",
       "      <td>Sabbatini</td>\n",
       "      <td>772</td>\n",
       "      <td>Germany</td>\n",
       "      <td>Male</td>\n",
       "      <td>42</td>\n",
       "      <td>3</td>\n",
       "      <td>75075.31</td>\n",
       "      <td>2</td>\n",
       "      <td>1</td>\n",
       "      <td>0</td>\n",
       "      <td>92888.52</td>\n",
       "      <td>1</td>\n",
       "    </tr>\n",
       "    <tr>\n",
       "      <th>9999</th>\n",
       "      <td>10000</td>\n",
       "      <td>15628319</td>\n",
       "      <td>Walker</td>\n",
       "      <td>792</td>\n",
       "      <td>France</td>\n",
       "      <td>Female</td>\n",
       "      <td>28</td>\n",
       "      <td>4</td>\n",
       "      <td>130142.79</td>\n",
       "      <td>1</td>\n",
       "      <td>1</td>\n",
       "      <td>0</td>\n",
       "      <td>38190.78</td>\n",
       "      <td>0</td>\n",
       "    </tr>\n",
       "  </tbody>\n",
       "</table>\n",
       "<p>10000 rows × 14 columns</p>\n",
       "</div>"
      ],
      "text/plain": [
       "      RowNumber  CustomerId    Surname  CreditScore Geography  Gender  Age  \\\n",
       "0             1    15634602   Hargrave          619    France  Female   42   \n",
       "1             2    15647311       Hill          608     Spain  Female   41   \n",
       "2             3    15619304       Onio          502    France  Female   42   \n",
       "3             4    15701354       Boni          699    France  Female   39   \n",
       "4             5    15737888   Mitchell          850     Spain  Female   43   \n",
       "...         ...         ...        ...          ...       ...     ...  ...   \n",
       "9995       9996    15606229   Obijiaku          771    France    Male   39   \n",
       "9996       9997    15569892  Johnstone          516    France    Male   35   \n",
       "9997       9998    15584532        Liu          709    France  Female   36   \n",
       "9998       9999    15682355  Sabbatini          772   Germany    Male   42   \n",
       "9999      10000    15628319     Walker          792    France  Female   28   \n",
       "\n",
       "      Tenure    Balance  NumOfProducts  HasCrCard  IsActiveMember  \\\n",
       "0          2       0.00              1          1               1   \n",
       "1          1   83807.86              1          0               1   \n",
       "2          8  159660.80              3          1               0   \n",
       "3          1       0.00              2          0               0   \n",
       "4          2  125510.82              1          1               1   \n",
       "...      ...        ...            ...        ...             ...   \n",
       "9995       5       0.00              2          1               0   \n",
       "9996      10   57369.61              1          1               1   \n",
       "9997       7       0.00              1          0               1   \n",
       "9998       3   75075.31              2          1               0   \n",
       "9999       4  130142.79              1          1               0   \n",
       "\n",
       "      EstimatedSalary  Exited  \n",
       "0           101348.88       1  \n",
       "1           112542.58       0  \n",
       "2           113931.57       1  \n",
       "3            93826.63       0  \n",
       "4            79084.10       0  \n",
       "...               ...     ...  \n",
       "9995         96270.64       0  \n",
       "9996        101699.77       0  \n",
       "9997         42085.58       1  \n",
       "9998         92888.52       1  \n",
       "9999         38190.78       0  \n",
       "\n",
       "[10000 rows x 14 columns]"
      ]
     },
     "execution_count": 234,
     "metadata": {},
     "output_type": "execute_result"
    }
   ],
   "source": [
    "df"
   ]
  },
  {
   "cell_type": "code",
   "execution_count": 235,
   "metadata": {},
   "outputs": [
    {
     "data": {
      "text/plain": [
       "'2.3.0'"
      ]
     },
     "execution_count": 235,
     "metadata": {},
     "output_type": "execute_result"
    }
   ],
   "source": [
    "tf.__version__  # tensorflow version 2"
   ]
  },
  {
   "cell_type": "markdown",
   "metadata": {},
   "source": [
    "# Preprocessing\n",
    "\n",
    "Baiscally, \n",
    "- define the training data set (X)\n",
    "- define the lable data (y)\n",
    "- encoding categorial data\n",
    "- split traing and testing \n",
    "- feature scaling"
   ]
  },
  {
   "cell_type": "markdown",
   "metadata": {},
   "source": [
    "## Get X and y"
   ]
  },
  {
   "cell_type": "code",
   "execution_count": 236,
   "metadata": {},
   "outputs": [],
   "source": [
    "# from here we will work with numpy array for training\n",
    "\n",
    "# get columns by index - from 3 and excludes the last one which is for lable\n",
    "X = df.iloc[:, 3:-1].values  # .values to convert to numpy arr\n"
   ]
  },
  {
   "cell_type": "code",
   "execution_count": 237,
   "metadata": {},
   "outputs": [],
   "source": [
    "y = df.iloc[:, -1].values  # y label using last column \"Exited\"\n"
   ]
  },
  {
   "cell_type": "code",
   "execution_count": 238,
   "metadata": {},
   "outputs": [
    {
     "name": "stdout",
     "output_type": "stream",
     "text": [
      "[[619 'France' 'Female' ... 1 1 101348.88]\n",
      " [608 'Spain' 'Female' ... 0 1 112542.58]\n",
      " [502 'France' 'Female' ... 1 0 113931.57]\n",
      " ...\n",
      " [709 'France' 'Female' ... 0 1 42085.58]\n",
      " [772 'Germany' 'Male' ... 1 0 92888.52]\n",
      " [792 'France' 'Female' ... 1 0 38190.78]]\n"
     ]
    }
   ],
   "source": [
    "print(X)  # looks like list"
   ]
  },
  {
   "cell_type": "markdown",
   "metadata": {},
   "source": [
    "## Encoding categorical data"
   ]
  },
  {
   "cell_type": "code",
   "execution_count": 239,
   "metadata": {},
   "outputs": [],
   "source": [
    "# encode categorical data to numeric\n",
    "from sklearn.preprocessing import LabelEncoder\n",
    "\n",
    "le = LabelEncoder()\n",
    "\n",
    "# encode the gender column, here we are just overriding the X var\n",
    "X[:,2] = le.fit_transform(X[:,2])"
   ]
  },
  {
   "cell_type": "code",
   "execution_count": 240,
   "metadata": {},
   "outputs": [
    {
     "data": {
      "text/plain": [
       "array([[619, 'France', 0, ..., 1, 1, 101348.88],\n",
       "       [608, 'Spain', 0, ..., 0, 1, 112542.58],\n",
       "       [502, 'France', 0, ..., 1, 0, 113931.57],\n",
       "       ...,\n",
       "       [709, 'France', 0, ..., 0, 1, 42085.58],\n",
       "       [772, 'Germany', 1, ..., 1, 0, 92888.52],\n",
       "       [792, 'France', 0, ..., 1, 0, 38190.78]], dtype=object)"
      ]
     },
     "execution_count": 240,
     "metadata": {},
     "output_type": "execute_result"
    }
   ],
   "source": [
    "X"
   ]
  },
  {
   "cell_type": "code",
   "execution_count": 241,
   "metadata": {},
   "outputs": [],
   "source": [
    "# \"One Hot Encoding\" the country column\n",
    "# this is similar to sklearn.get_dummies in that we are transforming the categorial data into binary\n",
    "from sklearn.compose import ColumnTransformer\n",
    "from sklearn.preprocessing import OneHotEncoder\n",
    "\n",
    "# columntrasformer gives you ability to customize the transformation - e.g, you can apply OneHotEncoder to the cloumn\n",
    "# here column index 1 is the country column\n",
    "ct = ColumnTransformer(transformers=[('encoder', OneHotEncoder(), [1])], remainder='passthrough')\n",
    "X = np.array(ct.fit_transform(X))"
   ]
  },
  {
   "cell_type": "code",
   "execution_count": 242,
   "metadata": {
    "scrolled": true
   },
   "outputs": [
    {
     "name": "stdout",
     "output_type": "stream",
     "text": [
      "[[1.0 0.0 0.0 ... 1 1 101348.88]\n",
      " [0.0 0.0 1.0 ... 0 1 112542.58]\n",
      " [1.0 0.0 0.0 ... 1 0 113931.57]\n",
      " ...\n",
      " [1.0 0.0 0.0 ... 0 1 42085.58]\n",
      " [0.0 1.0 0.0 ... 1 0 92888.52]\n",
      " [1.0 0.0 0.0 ... 1 0 38190.78]]\n"
     ]
    },
    {
     "data": {
      "text/plain": [
       "array([1.0, 0.0, 0.0, 619, 0, 42, 2, 0.0, 1, 1, 1, 101348.88],\n",
       "      dtype=object)"
      ]
     },
     "execution_count": 242,
     "metadata": {},
     "output_type": "execute_result"
    }
   ],
   "source": [
    "# OneHotEncoding moves the transformed columns to the beginning\n",
    "# for example, \"France\" is now represented as 1, 0, 0\n",
    "print(X)\n",
    "X[0]  "
   ]
  },
  {
   "cell_type": "markdown",
   "metadata": {},
   "source": [
    "## Split Training and Testing"
   ]
  },
  {
   "cell_type": "code",
   "execution_count": 243,
   "metadata": {},
   "outputs": [],
   "source": [
    "from sklearn.model_selection import train_test_split\n",
    "X_train, X_test, y_train, y_test = train_test_split(X, y, test_size=0.2, random_state=0)"
   ]
  },
  {
   "cell_type": "markdown",
   "metadata": {},
   "source": [
    "## Feature scaling"
   ]
  },
  {
   "cell_type": "code",
   "execution_count": 244,
   "metadata": {},
   "outputs": [],
   "source": [
    "# It is very important to standardize scaling in Neuro Network\n",
    "from sklearn.preprocessing import StandardScaler\n",
    "\n",
    "sc = StandardScaler()\n",
    "# apply feature scaling to all the features\n",
    "X_train = sc.fit_transform(X_train)\n",
    "X_test = sc.fit_transform(X_test)"
   ]
  },
  {
   "cell_type": "code",
   "execution_count": 245,
   "metadata": {},
   "outputs": [
    {
     "data": {
      "text/plain": [
       "array([[-1.01460667, -0.5698444 ,  1.74309049, ...,  0.64259497,\n",
       "        -1.03227043,  1.10643166],\n",
       "       [-1.01460667,  1.75486502, -0.57369368, ...,  0.64259497,\n",
       "         0.9687384 , -0.74866447],\n",
       "       [ 0.98560362, -0.5698444 , -0.57369368, ...,  0.64259497,\n",
       "        -1.03227043,  1.48533467],\n",
       "       ...,\n",
       "       [ 0.98560362, -0.5698444 , -0.57369368, ...,  0.64259497,\n",
       "        -1.03227043,  1.41231994],\n",
       "       [-1.01460667, -0.5698444 ,  1.74309049, ...,  0.64259497,\n",
       "         0.9687384 ,  0.84432121],\n",
       "       [-1.01460667,  1.75486502, -0.57369368, ...,  0.64259497,\n",
       "        -1.03227043,  0.32472465]])"
      ]
     },
     "execution_count": 245,
     "metadata": {},
     "output_type": "execute_result"
    }
   ],
   "source": [
    "X_train  # all the features have been standardized"
   ]
  },
  {
   "cell_type": "markdown",
   "metadata": {},
   "source": [
    "# Modeling"
   ]
  },
  {
   "cell_type": "markdown",
   "metadata": {},
   "source": [
    "## Initialize ANN model"
   ]
  },
  {
   "cell_type": "code",
   "execution_count": 246,
   "metadata": {},
   "outputs": [],
   "source": [
    "ann = tf.keras.models.Sequential()  # sequential class is the most basic ANN model\n"
   ]
  },
  {
   "cell_type": "markdown",
   "metadata": {},
   "source": [
    "## Add input layer and first hidden layer"
   ]
  },
  {
   "cell_type": "code",
   "execution_count": 247,
   "metadata": {},
   "outputs": [],
   "source": [
    "# add first hidden layer \n",
    "# add nerons, you need to try differnt and find a good num yourself\n",
    "# relu is the rectifier activation functions, refer to all different activation functions in previous tutorial\n",
    "dense = tf.keras.layers.Dense(units=6, activation='relu')  \n",
    "ann.add(dense) # add layers\n"
   ]
  },
  {
   "cell_type": "markdown",
   "metadata": {},
   "source": [
    "## Add second hidden layer"
   ]
  },
  {
   "cell_type": "code",
   "execution_count": 248,
   "metadata": {},
   "outputs": [],
   "source": [
    "# add second hidden layer\n",
    "dense_2 = tf.keras.layers.Dense(units=6, activation='relu')  \n",
    "ann.add(dense_2) # add another layers"
   ]
  },
  {
   "cell_type": "markdown",
   "metadata": {},
   "source": [
    "## Add output layer"
   ]
  },
  {
   "cell_type": "code",
   "execution_count": 249,
   "metadata": {},
   "outputs": [],
   "source": [
    "# use sigmoid activation function so you will also get probability of the prediction\n",
    "# units set to 1\n",
    "output_layer = tf.keras.layers.Dense(units=1, activation='sigmoid')  \n",
    "ann.add(output_layer) # add another layers"
   ]
  },
  {
   "cell_type": "markdown",
   "metadata": {},
   "source": [
    "## Training the ANN"
   ]
  },
  {
   "cell_type": "code",
   "execution_count": 250,
   "metadata": {},
   "outputs": [],
   "source": [
    "# compile the ANN\n",
    "# choose an optimizer \n",
    "\n",
    "\n",
    "# choose loss function - for binary classification use 'binary_crossentropy', for multi-calssification use 'categorical_crossentropy'\n",
    "# metrics - choose metrics to evaluate your model\n",
    "ann.compile(optimizer='adam', loss='binary_crossentropy', metrics=['accuracy'])"
   ]
  },
  {
   "cell_type": "code",
   "execution_count": 251,
   "metadata": {},
   "outputs": [
    {
     "name": "stdout",
     "output_type": "stream",
     "text": [
      "Epoch 1/100\n",
      "250/250 [==============================] - 0s 680us/step - loss: 0.5377 - accuracy: 0.7946\n",
      "Epoch 2/100\n",
      "250/250 [==============================] - 0s 576us/step - loss: 0.4662 - accuracy: 0.7930\n",
      "Epoch 3/100\n",
      "250/250 [==============================] - 0s 511us/step - loss: 0.4435 - accuracy: 0.7955\n",
      "Epoch 4/100\n",
      "250/250 [==============================] - 0s 521us/step - loss: 0.4371 - accuracy: 0.7987\n",
      "Epoch 5/100\n",
      "250/250 [==============================] - 0s 515us/step - loss: 0.4335 - accuracy: 0.7996\n",
      "Epoch 6/100\n",
      "250/250 [==============================] - 0s 559us/step - loss: 0.4307 - accuracy: 0.8023\n",
      "Epoch 7/100\n",
      "250/250 [==============================] - 0s 516us/step - loss: 0.4279 - accuracy: 0.8036\n",
      "Epoch 8/100\n",
      "250/250 [==============================] - 0s 550us/step - loss: 0.4260 - accuracy: 0.8066\n",
      "Epoch 9/100\n",
      "250/250 [==============================] - 0s 506us/step - loss: 0.4238 - accuracy: 0.8077\n",
      "Epoch 10/100\n",
      "250/250 [==============================] - 0s 508us/step - loss: 0.4214 - accuracy: 0.8080\n",
      "Epoch 11/100\n",
      "250/250 [==============================] - 0s 510us/step - loss: 0.4184 - accuracy: 0.8106\n",
      "Epoch 12/100\n",
      "250/250 [==============================] - 0s 513us/step - loss: 0.4142 - accuracy: 0.8123\n",
      "Epoch 13/100\n",
      "250/250 [==============================] - 0s 565us/step - loss: 0.4081 - accuracy: 0.8155\n",
      "Epoch 14/100\n",
      "250/250 [==============================] - 0s 528us/step - loss: 0.4000 - accuracy: 0.8220\n",
      "Epoch 15/100\n",
      "250/250 [==============================] - 0s 566us/step - loss: 0.3911 - accuracy: 0.8298\n",
      "Epoch 16/100\n",
      "250/250 [==============================] - 0s 536us/step - loss: 0.3834 - accuracy: 0.8359\n",
      "Epoch 17/100\n",
      "250/250 [==============================] - 0s 535us/step - loss: 0.3771 - accuracy: 0.8403\n",
      "Epoch 18/100\n",
      "250/250 [==============================] - 0s 558us/step - loss: 0.3718 - accuracy: 0.8418\n",
      "Epoch 19/100\n",
      "250/250 [==============================] - 0s 517us/step - loss: 0.3680 - accuracy: 0.8445\n",
      "Epoch 20/100\n",
      "250/250 [==============================] - 0s 525us/step - loss: 0.3644 - accuracy: 0.8481\n",
      "Epoch 21/100\n",
      "250/250 [==============================] - 0s 726us/step - loss: 0.3624 - accuracy: 0.8490\n",
      "Epoch 22/100\n",
      "250/250 [==============================] - 0s 756us/step - loss: 0.3607 - accuracy: 0.8496\n",
      "Epoch 23/100\n",
      "250/250 [==============================] - 0s 670us/step - loss: 0.3588 - accuracy: 0.8514\n",
      "Epoch 24/100\n",
      "250/250 [==============================] - 0s 515us/step - loss: 0.3572 - accuracy: 0.8520\n",
      "Epoch 25/100\n",
      "250/250 [==============================] - 0s 513us/step - loss: 0.3560 - accuracy: 0.8519\n",
      "Epoch 26/100\n",
      "250/250 [==============================] - 0s 508us/step - loss: 0.3552 - accuracy: 0.8529\n",
      "Epoch 27/100\n",
      "250/250 [==============================] - 0s 520us/step - loss: 0.3543 - accuracy: 0.8537\n",
      "Epoch 28/100\n",
      "250/250 [==============================] - 0s 558us/step - loss: 0.3531 - accuracy: 0.8540\n",
      "Epoch 29/100\n",
      "250/250 [==============================] - 0s 725us/step - loss: 0.3519 - accuracy: 0.8543\n",
      "Epoch 30/100\n",
      "250/250 [==============================] - 0s 666us/step - loss: 0.3518 - accuracy: 0.8555\n",
      "Epoch 31/100\n",
      "250/250 [==============================] - 0s 655us/step - loss: 0.3507 - accuracy: 0.8546\n",
      "Epoch 32/100\n",
      "250/250 [==============================] - 0s 565us/step - loss: 0.3494 - accuracy: 0.8564\n",
      "Epoch 33/100\n",
      "250/250 [==============================] - 0s 531us/step - loss: 0.3492 - accuracy: 0.8562\n",
      "Epoch 34/100\n",
      "250/250 [==============================] - 0s 545us/step - loss: 0.3485 - accuracy: 0.8577\n",
      "Epoch 35/100\n",
      "250/250 [==============================] - 0s 562us/step - loss: 0.3479 - accuracy: 0.8574\n",
      "Epoch 36/100\n",
      "250/250 [==============================] - 0s 610us/step - loss: 0.3471 - accuracy: 0.8574\n",
      "Epoch 37/100\n",
      "250/250 [==============================] - 0s 693us/step - loss: 0.3472 - accuracy: 0.8574\n",
      "Epoch 38/100\n",
      "250/250 [==============================] - 0s 534us/step - loss: 0.3465 - accuracy: 0.8575\n",
      "Epoch 39/100\n",
      "250/250 [==============================] - 0s 525us/step - loss: 0.3458 - accuracy: 0.8574\n",
      "Epoch 40/100\n",
      "250/250 [==============================] - 0s 543us/step - loss: 0.3454 - accuracy: 0.8574\n",
      "Epoch 41/100\n",
      "250/250 [==============================] - 0s 552us/step - loss: 0.3454 - accuracy: 0.8597\n",
      "Epoch 42/100\n",
      "250/250 [==============================] - 0s 521us/step - loss: 0.3449 - accuracy: 0.8581\n",
      "Epoch 43/100\n",
      "250/250 [==============================] - 0s 802us/step - loss: 0.3442 - accuracy: 0.8609\n",
      "Epoch 44/100\n",
      "250/250 [==============================] - 0s 678us/step - loss: 0.3437 - accuracy: 0.8608\n",
      "Epoch 45/100\n",
      "250/250 [==============================] - 0s 509us/step - loss: 0.3433 - accuracy: 0.8606\n",
      "Epoch 46/100\n",
      "250/250 [==============================] - 0s 517us/step - loss: 0.3428 - accuracy: 0.8624\n",
      "Epoch 47/100\n",
      "250/250 [==============================] - 0s 582us/step - loss: 0.3426 - accuracy: 0.8616\n",
      "Epoch 48/100\n",
      "250/250 [==============================] - 0s 547us/step - loss: 0.3420 - accuracy: 0.8614\n",
      "Epoch 49/100\n",
      "250/250 [==============================] - 0s 533us/step - loss: 0.3418 - accuracy: 0.8620\n",
      "Epoch 50/100\n",
      "250/250 [==============================] - 0s 514us/step - loss: 0.3409 - accuracy: 0.8609\n",
      "Epoch 51/100\n",
      "250/250 [==============================] - 0s 533us/step - loss: 0.3415 - accuracy: 0.8625\n",
      "Epoch 52/100\n",
      "250/250 [==============================] - 0s 574us/step - loss: 0.3407 - accuracy: 0.8629\n",
      "Epoch 53/100\n",
      "250/250 [==============================] - 0s 546us/step - loss: 0.3406 - accuracy: 0.8620\n",
      "Epoch 54/100\n",
      "250/250 [==============================] - 0s 530us/step - loss: 0.3406 - accuracy: 0.8639\n",
      "Epoch 55/100\n",
      "250/250 [==============================] - 0s 520us/step - loss: 0.3402 - accuracy: 0.8625\n",
      "Epoch 56/100\n",
      "250/250 [==============================] - 0s 542us/step - loss: 0.3400 - accuracy: 0.8629\n",
      "Epoch 57/100\n",
      "250/250 [==============================] - 0s 573us/step - loss: 0.3400 - accuracy: 0.8627\n",
      "Epoch 58/100\n",
      "250/250 [==============================] - 0s 608us/step - loss: 0.3399 - accuracy: 0.8622\n",
      "Epoch 59/100\n",
      "250/250 [==============================] - 0s 562us/step - loss: 0.3397 - accuracy: 0.8622\n",
      "Epoch 60/100\n",
      "250/250 [==============================] - 0s 504us/step - loss: 0.3396 - accuracy: 0.8644\n",
      "Epoch 61/100\n",
      "250/250 [==============================] - 0s 525us/step - loss: 0.3392 - accuracy: 0.8643\n",
      "Epoch 62/100\n",
      "250/250 [==============================] - 0s 571us/step - loss: 0.3391 - accuracy: 0.8621\n",
      "Epoch 63/100\n",
      "250/250 [==============================] - 0s 535us/step - loss: 0.3392 - accuracy: 0.8635\n",
      "Epoch 64/100\n",
      "250/250 [==============================] - 0s 545us/step - loss: 0.3389 - accuracy: 0.8637\n",
      "Epoch 65/100\n",
      "250/250 [==============================] - 0s 516us/step - loss: 0.3386 - accuracy: 0.8650\n",
      "Epoch 66/100\n",
      "250/250 [==============================] - 0s 518us/step - loss: 0.3388 - accuracy: 0.8645\n",
      "Epoch 67/100\n",
      "250/250 [==============================] - 0s 551us/step - loss: 0.3386 - accuracy: 0.8651\n",
      "Epoch 68/100\n",
      "250/250 [==============================] - 0s 533us/step - loss: 0.3381 - accuracy: 0.8651\n",
      "Epoch 69/100\n",
      "250/250 [==============================] - 0s 559us/step - loss: 0.3380 - accuracy: 0.8641\n",
      "Epoch 70/100\n",
      "250/250 [==============================] - 0s 593us/step - loss: 0.3378 - accuracy: 0.8641\n",
      "Epoch 71/100\n",
      "250/250 [==============================] - 0s 585us/step - loss: 0.3380 - accuracy: 0.8650\n",
      "Epoch 72/100\n",
      "250/250 [==============================] - 0s 526us/step - loss: 0.3381 - accuracy: 0.8637\n",
      "Epoch 73/100\n",
      "250/250 [==============================] - 0s 513us/step - loss: 0.3373 - accuracy: 0.8656\n",
      "Epoch 74/100\n",
      "250/250 [==============================] - 0s 518us/step - loss: 0.3377 - accuracy: 0.8643\n",
      "Epoch 75/100\n",
      "250/250 [==============================] - 0s 513us/step - loss: 0.3373 - accuracy: 0.8649\n",
      "Epoch 76/100\n",
      "250/250 [==============================] - 0s 566us/step - loss: 0.3374 - accuracy: 0.8643\n",
      "Epoch 77/100\n",
      "250/250 [==============================] - 0s 543us/step - loss: 0.3371 - accuracy: 0.8649\n",
      "Epoch 78/100\n",
      "250/250 [==============================] - 0s 563us/step - loss: 0.3371 - accuracy: 0.8652\n",
      "Epoch 79/100\n",
      "250/250 [==============================] - 0s 506us/step - loss: 0.3373 - accuracy: 0.8650\n",
      "Epoch 80/100\n",
      "250/250 [==============================] - 0s 553us/step - loss: 0.3371 - accuracy: 0.8643\n",
      "Epoch 81/100\n",
      "250/250 [==============================] - 0s 635us/step - loss: 0.3370 - accuracy: 0.8645\n",
      "Epoch 82/100\n",
      "250/250 [==============================] - 0s 486us/step - loss: 0.3366 - accuracy: 0.8646\n",
      "Epoch 83/100\n",
      "250/250 [==============================] - 0s 496us/step - loss: 0.3365 - accuracy: 0.8645\n",
      "Epoch 84/100\n",
      "250/250 [==============================] - 0s 493us/step - loss: 0.3365 - accuracy: 0.8648\n",
      "Epoch 85/100\n",
      "250/250 [==============================] - 0s 523us/step - loss: 0.3364 - accuracy: 0.8649\n",
      "Epoch 86/100\n",
      "250/250 [==============================] - 0s 526us/step - loss: 0.3363 - accuracy: 0.8659\n",
      "Epoch 87/100\n",
      "250/250 [==============================] - 0s 497us/step - loss: 0.3363 - accuracy: 0.8655\n",
      "Epoch 88/100\n",
      "250/250 [==============================] - 0s 484us/step - loss: 0.3361 - accuracy: 0.8648\n",
      "Epoch 89/100\n",
      "250/250 [==============================] - 0s 590us/step - loss: 0.3362 - accuracy: 0.8651\n",
      "Epoch 90/100\n",
      "250/250 [==============================] - 0s 580us/step - loss: 0.3362 - accuracy: 0.8660\n",
      "Epoch 91/100\n",
      "250/250 [==============================] - 0s 489us/step - loss: 0.3359 - accuracy: 0.8658\n",
      "Epoch 92/100\n",
      "250/250 [==============================] - 0s 501us/step - loss: 0.3357 - accuracy: 0.8650\n",
      "Epoch 93/100\n",
      "250/250 [==============================] - 0s 544us/step - loss: 0.3358 - accuracy: 0.8665\n",
      "Epoch 94/100\n",
      "250/250 [==============================] - 0s 601us/step - loss: 0.3356 - accuracy: 0.8665\n",
      "Epoch 95/100\n",
      "250/250 [==============================] - 0s 759us/step - loss: 0.3354 - accuracy: 0.8662\n",
      "Epoch 96/100\n",
      "250/250 [==============================] - 0s 727us/step - loss: 0.3356 - accuracy: 0.8659\n",
      "Epoch 97/100\n",
      "250/250 [==============================] - 0s 529us/step - loss: 0.3354 - accuracy: 0.8654\n",
      "Epoch 98/100\n",
      "250/250 [==============================] - 0s 496us/step - loss: 0.3352 - accuracy: 0.8662\n",
      "Epoch 99/100\n",
      "250/250 [==============================] - 0s 504us/step - loss: 0.3352 - accuracy: 0.8668\n",
      "Epoch 100/100\n",
      "250/250 [==============================] - 0s 558us/step - loss: 0.3353 - accuracy: 0.8654\n"
     ]
    },
    {
     "data": {
      "text/plain": [
       "<tensorflow.python.keras.callbacks.History at 0x1466e46a0>"
      ]
     },
     "execution_count": 251,
     "metadata": {},
     "output_type": "execute_result"
    }
   ],
   "source": [
    "# train the model use the batch learning - compare result in batch\n",
    "# epochs = neuro network has certain amount of epochs for training \n",
    "ann.fit(X_train, y_train, batch_size=32, epochs=100 )\n",
    "\n",
    "# you can see the accuracy going up!!"
   ]
  },
  {
   "cell_type": "markdown",
   "metadata": {},
   "source": [
    "## Make prediction"
   ]
  },
  {
   "cell_type": "code",
   "execution_count": 252,
   "metadata": {},
   "outputs": [
    {
     "data": {
      "text/plain": [
       "array([[0.01748216]], dtype=float32)"
      ]
     },
     "execution_count": 252,
     "metadata": {},
     "output_type": "execute_result"
    }
   ],
   "source": [
    "# predict targt needs to be 2-d arry\n",
    "record = [[\n",
    "    1, 0, 0, 600, 1, 40, 3, 60000, 2, 1, 1, 50000\n",
    "]]\n",
    "\n",
    "# make sure to apply the same scaling\n",
    "# !! do not use fit_tranform !! \n",
    "# use transform method\n",
    "scaled_record = sc.transform(record)\n",
    "\n",
    "# now predict\n",
    "ann.predict(scaled_record)  # you will get back probability\n",
    "\n",
    "# if the result is greater than 0.5 then we can consider the customer will be exited"
   ]
  },
  {
   "cell_type": "markdown",
   "metadata": {},
   "source": [
    "## Predict Test results"
   ]
  },
  {
   "cell_type": "code",
   "execution_count": 253,
   "metadata": {},
   "outputs": [
    {
     "name": "stdout",
     "output_type": "stream",
     "text": [
      "[[0 0]\n",
      " [0 1]\n",
      " [0 0]\n",
      " ...\n",
      " [0 0]\n",
      " [0 0]\n",
      " [0 0]]\n"
     ]
    }
   ],
   "source": [
    "y_pred = ann.predict(X_test)\n",
    "y_pred = (y_pred > 0.5)\n",
    "print(np.concatenate((y_pred.reshape(len(y_pred),1), y_test.reshape(len(y_test),1)),1))\n",
    "\n"
   ]
  },
  {
   "cell_type": "markdown",
   "metadata": {},
   "source": [
    "## Make confusion matrix"
   ]
  },
  {
   "cell_type": "code",
   "execution_count": 254,
   "metadata": {},
   "outputs": [
    {
     "name": "stdout",
     "output_type": "stream",
     "text": [
      "[[1539   56]\n",
      " [ 217  188]]\n"
     ]
    },
    {
     "data": {
      "text/plain": [
       "0.8635"
      ]
     },
     "execution_count": 254,
     "metadata": {},
     "output_type": "execute_result"
    }
   ],
   "source": [
    "from sklearn.metrics import confusion_matrix, accuracy_score\n",
    "cm = confusion_matrix(y_test, y_pred)\n",
    "print(cm)\n",
    "accuracy_score(y_test, y_pred)"
   ]
  },
  {
   "cell_type": "code",
   "execution_count": 1,
   "metadata": {},
   "outputs": [],
   "source": [
    "import numpy as np"
   ]
  },
  {
   "cell_type": "code",
   "execution_count": 19,
   "metadata": {},
   "outputs": [
    {
     "data": {
      "text/plain": [
       "array([[[1, 2, 3]],\n",
       "\n",
       "       [[4, 5, 6]],\n",
       "\n",
       "       [[7, 8, 9]]])"
      ]
     },
     "execution_count": 19,
     "metadata": {},
     "output_type": "execute_result"
    }
   ],
   "source": [
    "arr = [[1, 2, 3], [4, 5, 6], [7, 8, 9]]\n",
    "np.expand_dims(arr, axis=1)"
   ]
  },
  {
   "cell_type": "code",
   "execution_count": 27,
   "metadata": {},
   "outputs": [
    {
     "data": {
      "text/plain": [
       "array([[7, 8, 9]])"
      ]
     },
     "execution_count": 27,
     "metadata": {},
     "output_type": "execute_result"
    }
   ],
   "source": [
    "np.expand_dims(arr, axis=1)[2]"
   ]
  },
  {
   "cell_type": "code",
   "execution_count": null,
   "metadata": {},
   "outputs": [],
   "source": []
  }
 ],
 "metadata": {
  "kernelspec": {
   "display_name": "Python 3.7.2 64-bit ('3.7.2': pyenv)",
   "language": "python",
   "name": "python37264bit372pyenv598c0904c91f42e8a121f9ab66f95843"
  },
  "language_info": {
   "codemirror_mode": {
    "name": "ipython",
    "version": 3
   },
   "file_extension": ".py",
   "mimetype": "text/x-python",
   "name": "python",
   "nbconvert_exporter": "python",
   "pygments_lexer": "ipython3",
   "version": "3.7.2"
  }
 },
 "nbformat": 4,
 "nbformat_minor": 2
}
